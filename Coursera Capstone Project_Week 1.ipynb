{
 "cells": [
  {
   "cell_type": "markdown",
   "metadata": {
    "collapsed": true
   },
   "source": [
    "  \n",
    "<h1 align=center><font size = 5> Capstone Project - The Battle of Neighborhoods </font></h1>\n",
    " \n",
    "  <a> </a>\n",
    "  <a> </a>\n",
    "      \n",
    "    \n",
    "<center>\n",
    "<a>Yasser Bigdeli </a> \n",
    "<a> San Francisco, Ca</a>\n",
    "\n",
    "<a> </a>\n",
    "<a> </a>\n",
    "\n",
    "<center>\n",
    "Location recommendation for a new vegetarian restaurant \n",
    "opening in San Francisco, California\n",
    "    \n",
    "<center>"
   ]
  },
  {
   "cell_type": "markdown",
   "metadata": {},
   "source": [
    "# 1.\tBusiness Problem and Background:\n",
    "\n",
    "Restaurants are one of the most important business in the world. In the San Francisco bay area , it is even more important to have a right restaurant in right place to have a successful business, because the cost in the San Francisco is very high for a new business like restaurant. \n",
    "The business plan is to open a new vegetarian restaurant in the City of San Francisco, California and the following are the very important questions to be answered properly before starting the business: \n",
    "\n",
    "-\tThe locations of vegetarian restaurants in san Francisco?\n",
    "-\tRatio of Vegetarian places to total number of restaurants?\n",
    "-\tWhere is the most dense area for restaurants?\n",
    "-\tWhere is the most dense neighborhood for vegetarian restaurants?\n",
    "-\tWhat are the rating of the Vegetarian restaurants?\n",
    "-\tWhat is the percentages of vegetarian population in the area? (if possible)   \n"
   ]
  },
  {
   "cell_type": "markdown",
   "metadata": {},
   "source": [
    "# 2.\tData Source and Description:\n",
    "\n",
    "\n",
    "    \n",
    "San Francisco neighborhood data will be obtained via web scraping. The geographical longitude and latitudes of each neighborhoods will be obtained using ‘geopy.geocoders’ python library. The location data will be obtained for ‘foursquare.com’ data base and will be based on the geographical coordinates. The registered credentials of foursquare API will be used for obtaining the venues, user, rating, tips, etc. data.\n",
    "This section will be done through the following steps: \n",
    "\n",
    "\n",
    "\n",
    "1.\tFind the neighborhoods\n",
    "2.\tObtain the geographical coordinates\n",
    "3.\tGet location data from foursquare API\n",
    "4.\tClean the data and create data frame\n",
    "5.\tExplore the neighborhoods\n",
    "6.\tAnalyze each neighborhood\n",
    "7.\tMake a data frame for vegetarian restaurant\n",
    "8.\tGroup by neighborhood\n",
    "9.\tClustering Neighborhoods using K-means clustering\n",
    "10.\tVisualizing the resulting clusters\n",
    "11.\tMaking recommendation for a vegetarian restaurant location \n"
   ]
  },
  {
   "cell_type": "markdown",
   "metadata": {},
   "source": [
    "### Importing Libraries"
   ]
  },
  {
   "cell_type": "code",
   "execution_count": 4,
   "metadata": {
    "collapsed": true
   },
   "outputs": [
    {
     "name": "stdout",
     "output_type": "stream",
     "text": [
      "Collecting geopy\n",
      "  Using cached https://files.pythonhosted.org/packages/07/e1/9c72de674d5c2b8fcb0738a5ceeb5424941fefa080bfe4e240d0bacb5a38/geopy-2.0.0-py3-none-any.whl\n",
      "Collecting geographiclib<2,>=1.49 (from geopy)\n",
      "  Using cached https://files.pythonhosted.org/packages/8b/62/26ec95a98ba64299163199e95ad1b0e34ad3f4e176e221c40245f211e425/geographiclib-1.50-py3-none-any.whl\n",
      "Installing collected packages: geographiclib, geopy\n",
      "Successfully installed geographiclib-1.50 geopy-2.0.0\n"
     ]
    }
   ],
   "source": [
    "!pip install geopy"
   ]
  },
  {
   "cell_type": "code",
   "execution_count": 6,
   "metadata": {},
   "outputs": [],
   "source": [
    "import pandas as pd\n",
    "import numpy as np\n",
    "pd.set_option('display.max_columns', None)\n",
    "pd.set_option('display.max_rows', None)\n",
    "from geopy.geocoders import Nominatim\n",
    "from pandas.io.json import json_normalize \n",
    "from sklearn.cluster import KMeans\n",
    "import folium"
   ]
  },
  {
   "cell_type": "markdown",
   "metadata": {},
   "source": [
    " List of San Farancisco neighborhood: source: https://localwiki.org/sf/Neighborhoods "
   ]
  },
  {
   "cell_type": "code",
   "execution_count": 30,
   "metadata": {},
   "outputs": [],
   "source": [
    "neigh='''Alamo Square\n",
    "Bayview\n",
    "Bernal Heights\n",
    "Buena Vista\n",
    "Butcher Town\n",
    "Chinatown\n",
    "Civic Center\n",
    "Cole Valley\n",
    "Cow Hollow\n",
    "Crocker Amazon\n",
    "Diamond Heights\n",
    "Dogpatch\n",
    "Duboce Triangle\n",
    "Fillmore District\n",
    "Financial District\n",
    "Folsom\n",
    "Forest Hill\n",
    "Glen Park\n",
    "Golden Gate Heights\n",
    "Hayes Valley\n",
    "Hunters Point\n",
    "India Basin\n",
    "Ingleside\n",
    "Jackson Square\n",
    "Japantown\n",
    "Laurel Heights\n",
    "Lower Haight\n",
    "Miraloma Park\n",
    "Mission Bay\n",
    "Nob Hill\n",
    "Noe Valley\n",
    "NOPA\n",
    "North Beach\n",
    "Ocean View\n",
    "Pacific Heights\n",
    "Park Merced\n",
    "Parkside\n",
    "Parnassus Heights\n",
    "Polk\n",
    "Portola\n",
    "Potrero Hill\n",
    "Rincon Hills\n",
    "Russian Hill\n",
    "Saint Francis Wood\n",
    "SoMa\n",
    "South Beach\n",
    "Stonestown\n",
    "Telegraph Hill\n",
    "Theater District\n",
    "The Castro\n",
    "The Dolores Valley\n",
    "The Embarcadero\n",
    "The Excelsior\n",
    "The Marina\n",
    "The Mission\n",
    "The Presidio\n",
    "The Sunset\n",
    "The Tenderloin\n",
    "Twin Peaks\n",
    "Upper Market\n",
    "Visitacion Valley\n",
    "Western Addition\n",
    "West Portal'''"
   ]
  },
  {
   "cell_type": "markdown",
   "metadata": {},
   "source": [
    "### Data Cleaning "
   ]
  },
  {
   "cell_type": "code",
   "execution_count": 31,
   "metadata": {},
   "outputs": [],
   "source": [
    "sf_neigh=pd.DataFrame(neigh.split('\\n'), columns=['Neighborhood'])"
   ]
  },
  {
   "cell_type": "code",
   "execution_count": 32,
   "metadata": {},
   "outputs": [
    {
     "data": {
      "text/html": [
       "<div>\n",
       "<style scoped>\n",
       "    .dataframe tbody tr th:only-of-type {\n",
       "        vertical-align: middle;\n",
       "    }\n",
       "\n",
       "    .dataframe tbody tr th {\n",
       "        vertical-align: top;\n",
       "    }\n",
       "\n",
       "    .dataframe thead th {\n",
       "        text-align: right;\n",
       "    }\n",
       "</style>\n",
       "<table border=\"1\" class=\"dataframe\">\n",
       "  <thead>\n",
       "    <tr style=\"text-align: right;\">\n",
       "      <th></th>\n",
       "      <th>Neighborhood</th>\n",
       "    </tr>\n",
       "  </thead>\n",
       "  <tbody>\n",
       "    <tr>\n",
       "      <td>58</td>\n",
       "      <td>Twin Peaks</td>\n",
       "    </tr>\n",
       "    <tr>\n",
       "      <td>59</td>\n",
       "      <td>Upper Market</td>\n",
       "    </tr>\n",
       "    <tr>\n",
       "      <td>60</td>\n",
       "      <td>Visitacion Valley</td>\n",
       "    </tr>\n",
       "    <tr>\n",
       "      <td>61</td>\n",
       "      <td>Western Addition</td>\n",
       "    </tr>\n",
       "    <tr>\n",
       "      <td>62</td>\n",
       "      <td>West Portal</td>\n",
       "    </tr>\n",
       "  </tbody>\n",
       "</table>\n",
       "</div>"
      ],
      "text/plain": [
       "         Neighborhood\n",
       "58         Twin Peaks\n",
       "59       Upper Market\n",
       "60  Visitacion Valley\n",
       "61   Western Addition\n",
       "62        West Portal"
      ]
     },
     "execution_count": 32,
     "metadata": {},
     "output_type": "execute_result"
    }
   ],
   "source": [
    "sf_neigh.tail()"
   ]
  },
  {
   "cell_type": "code",
   "execution_count": 33,
   "metadata": {},
   "outputs": [],
   "source": [
    "sf_neigh['latitude']=np.nan\n",
    "sf_neigh['longitude']=np.nan\n",
    "# sf_neigh.head()"
   ]
  },
  {
   "cell_type": "markdown",
   "metadata": {},
   "source": [
    "#### San Francisco Geograpgical coordinate"
   ]
  },
  {
   "cell_type": "code",
   "execution_count": 34,
   "metadata": {},
   "outputs": [
    {
     "name": "stdout",
     "output_type": "stream",
     "text": [
      "The geograpical coordinate of San Francisco are 37.7790262, -122.4199061.\n"
     ]
    }
   ],
   "source": [
    "address = 'San Francisco City, CA, USA'\n",
    "\n",
    "geolocator = Nominatim(user_agent=\"ca_explorer\")\n",
    "location = geolocator.geocode(address)\n",
    "latitude_sf = location.latitude\n",
    "longitude_sf = location.longitude\n",
    "print('The geograpical coordinate of San Francisco are {}, {}.'.format(latitude_sf, longitude_sf))"
   ]
  },
  {
   "cell_type": "markdown",
   "metadata": {},
   "source": [
    "#### Adding Neighborhood geographical coordinates to SF_neigh data frame "
   ]
  },
  {
   "cell_type": "code",
   "execution_count": 35,
   "metadata": {},
   "outputs": [],
   "source": [
    "for i , neighbor in enumerate(sf_neigh['Neighborhood']):\n",
    " \n",
    "    address = neighbor + ', ' + 'San Francisco City, CA, USA'\n",
    "    try:\n",
    "        geolocator = Nominatim(user_agent=\"California_explorer\")\n",
    "        location = geolocator.geocode(address, timeout=10000)\n",
    "        latitude = location.latitude\n",
    "        longitude = location.longitude\n",
    "        sf_neigh.loc[i,'latitude']=latitude\n",
    "        sf_neigh.loc[i,'longitude']=longitude\n",
    "#         print(latitude, longitude)\n",
    "    except:\n",
    "        pass\n",
    "\n",
    "sf_neigh.dropna(inplace=True)"
   ]
  },
  {
   "cell_type": "code",
   "execution_count": 36,
   "metadata": {},
   "outputs": [
    {
     "data": {
      "text/html": [
       "<div>\n",
       "<style scoped>\n",
       "    .dataframe tbody tr th:only-of-type {\n",
       "        vertical-align: middle;\n",
       "    }\n",
       "\n",
       "    .dataframe tbody tr th {\n",
       "        vertical-align: top;\n",
       "    }\n",
       "\n",
       "    .dataframe thead th {\n",
       "        text-align: right;\n",
       "    }\n",
       "</style>\n",
       "<table border=\"1\" class=\"dataframe\">\n",
       "  <thead>\n",
       "    <tr style=\"text-align: right;\">\n",
       "      <th></th>\n",
       "      <th>Neighborhood</th>\n",
       "      <th>latitude</th>\n",
       "      <th>longitude</th>\n",
       "    </tr>\n",
       "  </thead>\n",
       "  <tbody>\n",
       "    <tr>\n",
       "      <td>0</td>\n",
       "      <td>Alamo Square</td>\n",
       "      <td>37.776360</td>\n",
       "      <td>-122.434689</td>\n",
       "    </tr>\n",
       "    <tr>\n",
       "      <td>1</td>\n",
       "      <td>Bayview</td>\n",
       "      <td>40.772627</td>\n",
       "      <td>-124.183950</td>\n",
       "    </tr>\n",
       "    <tr>\n",
       "      <td>2</td>\n",
       "      <td>Bernal Heights</td>\n",
       "      <td>37.741001</td>\n",
       "      <td>-122.414214</td>\n",
       "    </tr>\n",
       "    <tr>\n",
       "      <td>3</td>\n",
       "      <td>Buena Vista</td>\n",
       "      <td>37.806532</td>\n",
       "      <td>-122.420648</td>\n",
       "    </tr>\n",
       "    <tr>\n",
       "      <td>5</td>\n",
       "      <td>Chinatown</td>\n",
       "      <td>37.794301</td>\n",
       "      <td>-122.406376</td>\n",
       "    </tr>\n",
       "    <tr>\n",
       "      <td>6</td>\n",
       "      <td>Civic Center</td>\n",
       "      <td>37.779026</td>\n",
       "      <td>-122.419906</td>\n",
       "    </tr>\n",
       "    <tr>\n",
       "      <td>7</td>\n",
       "      <td>Cole Valley</td>\n",
       "      <td>37.765813</td>\n",
       "      <td>-122.449962</td>\n",
       "    </tr>\n",
       "    <tr>\n",
       "      <td>8</td>\n",
       "      <td>Cow Hollow</td>\n",
       "      <td>37.797262</td>\n",
       "      <td>-122.436248</td>\n",
       "    </tr>\n",
       "    <tr>\n",
       "      <td>9</td>\n",
       "      <td>Crocker Amazon</td>\n",
       "      <td>37.709378</td>\n",
       "      <td>-122.438587</td>\n",
       "    </tr>\n",
       "    <tr>\n",
       "      <td>11</td>\n",
       "      <td>Dogpatch</td>\n",
       "      <td>37.760698</td>\n",
       "      <td>-122.389202</td>\n",
       "    </tr>\n",
       "  </tbody>\n",
       "</table>\n",
       "</div>"
      ],
      "text/plain": [
       "      Neighborhood   latitude   longitude\n",
       "0     Alamo Square  37.776360 -122.434689\n",
       "1          Bayview  40.772627 -124.183950\n",
       "2   Bernal Heights  37.741001 -122.414214\n",
       "3      Buena Vista  37.806532 -122.420648\n",
       "5        Chinatown  37.794301 -122.406376\n",
       "6     Civic Center  37.779026 -122.419906\n",
       "7      Cole Valley  37.765813 -122.449962\n",
       "8       Cow Hollow  37.797262 -122.436248\n",
       "9   Crocker Amazon  37.709378 -122.438587\n",
       "11        Dogpatch  37.760698 -122.389202"
      ]
     },
     "execution_count": 36,
     "metadata": {},
     "output_type": "execute_result"
    }
   ],
   "source": [
    "sf_neigh.head(10)"
   ]
  },
  {
   "cell_type": "code",
   "execution_count": 37,
   "metadata": {},
   "outputs": [
    {
     "data": {
      "text/plain": [
       "(51, 3)"
      ]
     },
     "execution_count": 37,
     "metadata": {},
     "output_type": "execute_result"
    }
   ],
   "source": [
    "sf_neigh.shape"
   ]
  },
  {
   "cell_type": "markdown",
   "metadata": {},
   "source": [
    "## Create SF map and neighbors"
   ]
  },
  {
   "cell_type": "code",
   "execution_count": 38,
   "metadata": {
    "scrolled": true
   },
   "outputs": [
    {
     "data": {
      "text/html": [
       "<div style=\"width:100%;\"><div style=\"position:relative;width:100%;height:0;padding-bottom:60%;\"><span style=\"color:#565656\">Make this Notebook Trusted to load map: File -> Trust Notebook</span><iframe src=\"about:blank\" style=\"position:absolute;width:100%;height:100%;left:0;top:0;border:none !important;\" data-html=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 onload=\"this.contentDocument.open();this.contentDocument.write(atob(this.getAttribute('data-html')));this.contentDocument.close();\" allowfullscreen webkitallowfullscreen mozallowfullscreen></iframe></div></div>"
      ],
      "text/plain": [
       "<folium.folium.Map at 0x22641a6b048>"
      ]
     },
     "execution_count": 38,
     "metadata": {},
     "output_type": "execute_result"
    }
   ],
   "source": [
    "# create map of SF using latitude and longitude values\n",
    "map_SF = folium.Map(location=[latitude_sf, longitude_sf], zoom_start=12)\n",
    "\n",
    "# add markers to map\n",
    "for lat, lng, neighborhood in zip(sf_neigh['latitude'], sf_neigh['longitude'], sf_neigh['Neighborhood']):\n",
    "    label = '{}'.format(neighborhood)\n",
    "    label = folium.Popup(label, parse_html=True)\n",
    "    folium.CircleMarker(\n",
    "        [lat, lng],\n",
    "        radius=3,\n",
    "        popup=label,\n",
    "        color='red',\n",
    "        fill=True,\n",
    "#         fill_color='#3186cc',\n",
    "        fill_opacity=0.7,\n",
    "        parse_html=False).add_to(map_SF)  \n",
    "    \n",
    "map_SF"
   ]
  },
  {
   "cell_type": "markdown",
   "metadata": {},
   "source": []
  },
  {
   "cell_type": "code",
   "execution_count": null,
   "metadata": {},
   "outputs": [],
   "source": []
  },
  {
   "cell_type": "code",
   "execution_count": null,
   "metadata": {},
   "outputs": [],
   "source": []
  }
 ],
 "metadata": {
  "kernelspec": {
   "display_name": "Python 3",
   "language": "python",
   "name": "python3"
  },
  "language_info": {
   "codemirror_mode": {
    "name": "ipython",
    "version": 3
   },
   "file_extension": ".py",
   "mimetype": "text/x-python",
   "name": "python",
   "nbconvert_exporter": "python",
   "pygments_lexer": "ipython3",
   "version": "3.7.4"
  }
 },
 "nbformat": 4,
 "nbformat_minor": 1
}
