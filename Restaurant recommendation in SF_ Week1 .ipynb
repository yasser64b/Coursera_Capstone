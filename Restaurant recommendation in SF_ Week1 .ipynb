{
    "cells": [
        {
            "cell_type": "markdown",
            "metadata": {
                "collapsed": true
            },
            "source": "  \n<h1 align=center><font size = 5> Capstone Project - The Battle of Neighborhoods </font></h1>\n \n  <a> </a>\n  <a> </a>\n      \n    \n<center>\n<a>Yasser Bigdeli </a> \n<a> San Francisco, Ca</a>\n\n<a> </a>\n<a> </a>\n\n<center>\nLocation recommendation for a new vegetarian restaurant \nopening in San Francisco, California\n    \n<center>"
        },
        {
            "cell_type": "markdown",
            "metadata": {},
            "source": "# 1.\tBusiness Problem and Background:\n\nRestaurants are one of the most important business in the world. In the San Francisco bay area , it is even more important to have a right restaurant in right place to have a successful business, because the cost in the San Francisco is very high for a new business like restaurant. \nThe business plan is to open a new vegetarian restaurant in the City of San Francisco, California and the following are the very important questions to be answered properly before starting the business: \n\n-\tThe locations of vegetarian restaurants in san Francisco?\n-\tRatio of Vegetarian places to total number of restaurants?\n-\tWhere is the most dense area for restaurants?\n-\tWhere is the most dense neighborhood for vegetarian restaurants?\n-\tWhat are the rating of the Vegetarian restaurants?\n-\tWhat is the percentages of vegetarian population in the area? (if possible)   \n"
        },
        {
            "cell_type": "markdown",
            "metadata": {},
            "source": "# 2.\tData Source and Description:\n\n\n    \nSan Francisco neighborhood data will be obtained via web scraping. The geographical longitude and latitudes of each neighborhoods will be obtained using \u2018geopy.geocoders\u2019 python library. The location data will be obtained for \u2018foursquare.com\u2019 data base and will be based on the geographical coordinates. The registered credentials of foursquare API will be used for obtaining the venues, user, rating, tips, etc. data.\nThis section will be done through the following steps: \n\n\n\n1.\tFind the neighborhoods\n2.\tObtain the geographical coordinates\n3.\tGet location data from foursquare API\n4.\tClean the data and create data frame\n5.\tExplore the neighborhoods\n6.\tAnalyze each neighborhood\n7.\tMake a data frame for vegetarian restaurant\n8.\tGroup by neighborhood\n9.\tClustering Neighborhoods using K-means clustering\n10.\tVisualizing the resulting clusters\n11.\tMaking recommendation for a vegetarian restaurant location \n"
        },
        {
            "cell_type": "code",
            "execution_count": null,
            "metadata": {},
            "outputs": [],
            "source": ""
        }
    ],
    "metadata": {
        "kernelspec": {
            "display_name": "Python 3.7",
            "language": "python",
            "name": "python3"
        },
        "language_info": {
            "codemirror_mode": {
                "name": "ipython",
                "version": 3
            },
            "file_extension": ".py",
            "mimetype": "text/x-python",
            "name": "python",
            "nbconvert_exporter": "python",
            "pygments_lexer": "ipython3",
            "version": "3.7.9"
        }
    },
    "nbformat": 4,
    "nbformat_minor": 1
}